{
 "cells": [
  {
   "cell_type": "code",
   "execution_count": 1,
   "metadata": {},
   "outputs": [],
   "source": [
    "import cv2\n",
    "import numpy as np\n",
    "import os\n",
    "import time"
   ]
  },
  {
   "cell_type": "code",
   "execution_count": 3,
   "metadata": {},
   "outputs": [],
   "source": [
    "cap=cv2.VideoCapture(0)\n",
    "while(True):\n",
    "    ret,frame=cap.read()\n",
    "    frame=cv2.cvtColor(frame,cv2.COLOR_BGR2GRAY)\n",
    "    frame=frame[:,81:561]\n",
    "    cv2.imshow(\"CAMERA\",frame)\n",
    "    c=cv2.waitKey(1)\n",
    "    if c==ord('r'):\n",
    "        f=open(\"data/rock/rock.txt\",'r')\n",
    "        i=int(f.read())\n",
    "        f.close()\n",
    "        t=str(i)+'.jpg'\n",
    "        cv2.imwrite(os.path.join(\"data/rock\",t),frame)\n",
    "        f=open(\"data/rock/rock.txt\",'w')\n",
    "        f.write(\"%d\"%(i+1))\n",
    "        f.close()\n",
    "    elif c==ord('p'):\n",
    "        f=open(\"data/paper/paper.txt\",'r')\n",
    "        i=int(f.read())\n",
    "        f.close()\n",
    "        t=str(i)+'.jpg'\n",
    "        cv2.imwrite(os.path.join(\"data/paper\",t),frame)\n",
    "        f=open(\"data/paper/paper.txt\",'w')\n",
    "        f.write(\"%d\"%(i+1))\n",
    "    elif c==ord('s'):\n",
    "        f=open(\"data/scissors/scissors.txt\",'r')\n",
    "        i=int(f.read())\n",
    "        f.close()\n",
    "        t=str(i)+'.jpg'\n",
    "        cv2.imwrite(os.path.join(\"data/scissors\",t),frame)\n",
    "        f=open(\"data/scissors/scissors.txt\",'w')\n",
    "        f.write(\"%d\"%(i+1))\n",
    "    elif c==ord('q'):\n",
    "        break\n",
    "cap.release()\n",
    "cv2.destroyAllWindows()"
   ]
  },
  {
   "cell_type": "code",
   "execution_count": null,
   "metadata": {},
   "outputs": [],
   "source": []
  }
 ],
 "metadata": {
  "kernelspec": {
   "display_name": "Python 3",
   "language": "python",
   "name": "python3"
  },
  "language_info": {
   "codemirror_mode": {
    "name": "ipython",
    "version": 3
   },
   "file_extension": ".py",
   "mimetype": "text/x-python",
   "name": "python",
   "nbconvert_exporter": "python",
   "pygments_lexer": "ipython3",
   "version": "3.7.0"
  }
 },
 "nbformat": 4,
 "nbformat_minor": 2
}
